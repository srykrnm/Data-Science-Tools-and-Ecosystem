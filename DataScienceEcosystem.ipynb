{
  "metadata": {
    "kernelspec": {
      "name": "python",
      "display_name": "Python (Pyodide)",
      "language": "python"
    },
    "language_info": {
      "codemirror_mode": {
        "name": "python",
        "version": 3
      },
      "file_extension": ".py",
      "mimetype": "text/x-python",
      "name": "python",
      "nbconvert_exporter": "python",
      "pygments_lexer": "ipython3",
      "version": "3.8"
    }
  },
  "nbformat_minor": 5,
  "nbformat": 4,
  "cells": [
    {
      "cell_type": "markdown",
      "source": "# Data Science Tools and Ecosystem",
      "metadata": {},
      "id": "571a2321-6c8e-4de3-921f-866f4164d3d1"
    },
    {
      "cell_type": "markdown",
      "source": "In this notebook, Data Science Tools and Ecosystem are summarized.",
      "metadata": {},
      "id": "2dc34af8-6b84-4dec-b14b-8055447c6f0b"
    },
    {
      "cell_type": "markdown",
      "source": "<b>Objectives:</b>\n\n<ul>\n <li>Some of the popular languages that Data Scientists use</li>\n <li>commonly used libraries used by Data Scientists include</li>\n <li>few examples of evaluating arithmetic expressions in Python</li>\n</ul>\n",
      "metadata": {},
      "id": "c0dcbd14-7bb4-4be5-9578-7060d26f70ad"
    },
    {
      "cell_type": "markdown",
      "source": "### Some of the popular languages that Data Scientists use are:",
      "metadata": {},
      "id": "ea588f01-37a7-42e6-8256-e3f281814441"
    },
    {
      "cell_type": "markdown",
      "source": "<ol>\n <li>Python</li>\n <li>R</li>\n <li>Java</li>\n</ol>",
      "metadata": {},
      "id": "b8ccef2c-56c1-420f-b340-0058b744cfb0"
    },
    {
      "cell_type": "markdown",
      "source": "### Some of the commonly used libraries used by Data Scientists include:\n\n<ol>\n    <li>Numpy</li>\n    <li>Pandas</li>\n    <li>Matplotlib</li>\n</ol>",
      "metadata": {},
      "id": "9e8177f0-b52e-492e-8de2-0482d6f70919"
    },
    {
      "cell_type": "markdown",
      "source": "|Data Science Tools|\n|------------------|\n|Numpy             |\n|Pandas            |\n|Matplotlib        |",
      "metadata": {},
      "id": "caa93bae-672b-4724-8e5a-29a3cbae7668"
    },
    {
      "cell_type": "markdown",
      "source": "### Below are a few examples of evaluating arithmetic expressions in Python",
      "metadata": {},
      "id": "403b98b6-8d32-4058-88fd-e1ea58a8a112"
    },
    {
      "cell_type": "code",
      "source": "# This a simple arithmetic expression to mutiply then add integers\n\n(3*4)+5",
      "metadata": {
        "trusted": true
      },
      "execution_count": 9,
      "outputs": [
        {
          "execution_count": 9,
          "output_type": "execute_result",
          "data": {
            "text/plain": "17"
          },
          "metadata": {}
        }
      ],
      "id": "d29ac618-0d8b-4471-844d-392dc49cb6f9"
    },
    {
      "cell_type": "code",
      "source": "# This will convert 200 minutes to hours by diving by 60\n\n200//60",
      "metadata": {
        "trusted": true
      },
      "execution_count": 10,
      "outputs": [
        {
          "execution_count": 10,
          "output_type": "execute_result",
          "data": {
            "text/plain": "3"
          },
          "metadata": {}
        }
      ],
      "id": "8038de82-e258-48f4-8a0f-a928a96d0daf"
    },
    {
      "cell_type": "markdown",
      "source": "## Author\n\nsrykrnm",
      "metadata": {},
      "id": "a10fb941-be56-497a-afac-f1f125bde649"
    }
  ]
}